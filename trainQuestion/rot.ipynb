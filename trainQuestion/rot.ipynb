{
 "cells": [
  {
   "cell_type": "markdown",
   "metadata": {},
   "source": [
    "<h2>random</h2>"
   ]
  },
  {
   "cell_type": "code",
   "execution_count": 2,
   "metadata": {},
   "outputs": [],
   "source": [
    "import random"
   ]
  },
  {
   "cell_type": "code",
   "execution_count": 7,
   "metadata": {},
   "outputs": [
    {
     "name": "stdout",
     "output_type": "stream",
     "text": [
      "None\n",
      "2\n",
      "None\n",
      "8\n",
      "None\n",
      "7\n",
      "None\n",
      "5\n",
      "None\n",
      "7\n",
      "None\n",
      "8\n",
      "None\n",
      "5\n",
      "None\n",
      "10\n",
      "None\n",
      "10\n",
      "None\n",
      "3\n"
     ]
    }
   ],
   "source": [
    "### randint()、random()、shuffle\n",
    "### uniform(a,b)、choice(seq)、sample(pop,k)\n",
    "\n",
    "for i in range(10):\n",
    "    random.seed()\n",
    "    print(random.randint(1,10))"
   ]
  },
  {
   "cell_type": "markdown",
   "metadata": {},
   "source": [
    "<h2>time</h2>"
   ]
  },
  {
   "cell_type": "code",
   "execution_count": 8,
   "metadata": {},
   "outputs": [],
   "source": [
    "import time"
   ]
  },
  {
   "cell_type": "code",
   "execution_count": 19,
   "metadata": {},
   "outputs": [
    {
     "name": "stdout",
     "output_type": "stream",
     "text": [
      "Sun Apr 28 15:18:53 2019\n",
      "Sun Apr 28 15:18:53 2019\n"
     ]
    }
   ],
   "source": [
    "## 格式化时间输出\n",
    "## gmtime() or localtime()的结果为输出\n",
    "print(time.asctime())\n",
    "print(time.ctime())"
   ]
  },
  {
   "cell_type": "code",
   "execution_count": 20,
   "metadata": {},
   "outputs": [
    {
     "data": {
      "text/plain": [
       "18053.4446031"
      ]
     },
     "execution_count": 20,
     "metadata": {},
     "output_type": "execute_result"
    }
   ],
   "source": [
    "## 与time.process_time()取代了time.clock()\n",
    "### time.perf_counter()包含系统睡眠时间\n",
    "time.perf_counter()"
   ]
  },
  {
   "cell_type": "code",
   "execution_count": 30,
   "metadata": {},
   "outputs": [],
   "source": [
    "\n",
    "pre = time.process_time()\n",
    "# pa = time.process_time() - pre\n",
    "\n",
    "### time.process_time() 不包含系统睡眠时间\n",
    "pa = time.process_time() - pre\n",
    "\n",
    "print(pre,pa)"
   ]
  },
  {
   "cell_type": "code",
   "execution_count": 41,
   "metadata": {},
   "outputs": [
    {
     "data": {
      "text/plain": [
       "'Sun, 28 Apr 2019 07:50:24 +0000'"
      ]
     },
     "execution_count": 41,
     "metadata": {},
     "output_type": "execute_result"
    }
   ],
   "source": [
    "from time import gmtime, strftime\n",
    "# strftime(\"%a, %d %b %Y %H:%M:%S +0000\", gmtime())\n",
    "\n",
    "### 将时间格式化输出\n",
    "strftime(\"%a, %d %b %Y %H:%M:%S +0000\",gmtime())\n",
    "\n",
    "### 变化字符串为格式化数据\n",
    "time.strptime(\"30 Nov 00\", \"%d %b %y\")\n",
    "time.strptime(\"2019 4 28\",\"%Y %m %d\")"
   ]
  },
  {
   "cell_type": "code",
   "execution_count": 38,
   "metadata": {},
   "outputs": [
    {
     "data": {
      "text/plain": [
       "time.struct_time(tm_year=2019, tm_mon=4, tm_mday=28, tm_hour=15, tm_min=46, tm_sec=20, tm_wday=6, tm_yday=118, tm_isdst=0)"
      ]
     },
     "execution_count": 38,
     "metadata": {},
     "output_type": "execute_result"
    }
   ],
   "source": [
    "time.localtime()"
   ]
  },
  {
   "cell_type": "markdown",
   "metadata": {},
   "source": [
    "<h2>os</h2>"
   ]
  },
  {
   "cell_type": "code",
   "execution_count": 43,
   "metadata": {},
   "outputs": [],
   "source": [
    "import os"
   ]
  },
  {
   "cell_type": "code",
   "execution_count": 44,
   "metadata": {},
   "outputs": [
    {
     "data": {
      "text/plain": [
       "'D:\\\\NsTrain\\\\pyThresholdAgain\\\\trainQuestion'"
      ]
     },
     "execution_count": 44,
     "metadata": {},
     "output_type": "execute_result"
    }
   ],
   "source": [
    "os.getcwd()\n",
    "\n",
    "os.listdir()"
   ]
  },
  {
   "cell_type": "code",
   "execution_count": 72,
   "metadata": {},
   "outputs": [],
   "source": [
    "os.mkdir(\"song\")\n",
    "os.rename(\"song\",\"song1\")\n",
    "os.rmdir(\"song1\")\n",
    "\n",
    "# os.mknod(\"test.txt\") ### 只能在ubuntu下运行\n",
    "# os.remove(\"song.txt\")\n",
    "\n",
    "os.rename(\"song\",\"song1\")\n",
    "\n",
    "os.rmdir(\"song1\")"
   ]
  },
  {
   "cell_type": "code",
   "execution_count": 66,
   "metadata": {},
   "outputs": [
    {
     "data": {
      "text/plain": [
       "True"
      ]
     },
     "execution_count": 66,
     "metadata": {},
     "output_type": "execute_result"
    }
   ],
   "source": [
    "os.path.isfile(\"song.txt\")\n",
    "\n",
    "os.path.isdir('D:\\\\NsTrain\\\\pyThresholdAgain\\\\trainQuestion')"
   ]
  },
  {
   "cell_type": "code",
   "execution_count": 55,
   "metadata": {},
   "outputs": [
    {
     "data": {
      "text/plain": [
       "True"
      ]
     },
     "execution_count": 55,
     "metadata": {},
     "output_type": "execute_result"
    }
   ],
   "source": [
    "os.path.exists('D:\\\\NsTrain\\\\pyThresholdAgain\\\\trainQuestion')\n",
    "\n",
    "os.path.exists('D:\\\\NsTrain\\\\pyThresholdAgain\\\\trainQution')"
   ]
  },
  {
   "cell_type": "code",
   "execution_count": 58,
   "metadata": {},
   "outputs": [
    {
     "data": {
      "text/plain": [
       "('D:\\\\NsTrain\\\\pyThresholdAgain\\\\trainQuestion', 'song.txt')"
      ]
     },
     "execution_count": 58,
     "metadata": {},
     "output_type": "execute_result"
    }
   ],
   "source": [
    "os.path.split('D:\\\\NsTrain\\\\pyThresholdAgain\\\\trainQuestion\\\\song.txt')\n",
    "\n",
    "os.path.splitext('D:\\\\NsTrain\\\\pyThresholdAgain\\\\trainQuestion\\\\song.txt')\n",
    "\n",
    "os.path.dirname('D:\\\\NsTrain\\\\pyThresholdAgain\\\\trainQuestion\\\\song.txt')\n",
    "\n",
    "os.path.basename('D:\\\\NsTrain\\\\pyThresholdAgain\\\\trainQuestion\\\\song.txt')"
   ]
  },
  {
   "cell_type": "code",
   "execution_count": null,
   "metadata": {},
   "outputs": [],
   "source": []
  }
 ],
 "metadata": {
  "kernelspec": {
   "display_name": "Python 3",
   "language": "python",
   "name": "python3"
  },
  "language_info": {
   "codemirror_mode": {
    "name": "ipython",
    "version": 3
   },
   "file_extension": ".py",
   "mimetype": "text/x-python",
   "name": "python",
   "nbconvert_exporter": "python",
   "pygments_lexer": "ipython3",
   "version": "3.7.0"
  }
 },
 "nbformat": 4,
 "nbformat_minor": 2
}
