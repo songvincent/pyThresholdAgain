{
 "cells": [
  {
   "cell_type": "markdown",
   "metadata": {},
   "source": [
    "<h2>第一弹之零碎不会</h2>"
   ]
  },
  {
   "cell_type": "code",
   "execution_count": 2,
   "metadata": {},
   "outputs": [
    {
     "name": "stdout",
     "output_type": "stream",
     "text": [
      "hello,world!\n",
      "3032683898608\n",
      "hello,world!!!!\n",
      "3032683898864\n"
     ]
    }
   ],
   "source": [
    "### id()\n",
    "### 用于获取内存地址\n",
    "\n",
    "a = \"hello,world!\"\n",
    "print(a)\n",
    "print(id(a))\n",
    "\n",
    "b = \"hello,world!!!!\"\n",
    "print(b)\n",
    "print(id(b))"
   ]
  },
  {
   "cell_type": "code",
   "execution_count": 19,
   "metadata": {},
   "outputs": [
    {
     "name": "stdout",
     "output_type": "stream",
     "text": [
      "[1, 2, 2, 3, 4, 7]\n",
      "[1, 4, 2, 3, 2, 7]\n",
      "5\n"
     ]
    }
   ],
   "source": [
    "### sorted 排序\n",
    "\n",
    "l = [1,4,2,3,2,7]\n",
    "print(sorted(l))\n",
    "print(l)\n",
    "print(l.index(7))"
   ]
  },
  {
   "cell_type": "code",
   "execution_count": 21,
   "metadata": {},
   "outputs": [
    {
     "name": "stdout",
     "output_type": "stream",
     "text": [
      "China,Beijing\n",
      "USA,Washington\n",
      "fruit,apple\n",
      "animal,cat\n"
     ]
    }
   ],
   "source": [
    "####  add clear discard remove isdisjoint\n",
    "#### append insert(i,x) remove(x) pop(i) clear() reserve\n",
    "\n",
    "\n",
    "\n",
    "\n",
    "\n",
    "### dict 之字典类型\n",
    "\n",
    "### dict.update(dict2) 把字典dict2的键/值对更新到dict里\n",
    "### dict.has_key(key)\n",
    "### d.get(key,默认值)\n",
    "### d.pop(key,默认值)\n",
    "### d.clear(),del \n",
    "\n",
    "d = {}\n",
    "d['China']= 'Beijing'\n",
    "d['USA']='Washington'\n",
    "\n",
    "d1={}\n",
    "d1['fruit']='apple'\n",
    "d1['animal']='cat'\n",
    "d.update(d1)\n",
    "\n",
    "for key in d.keys():\n",
    "    print(key,end=',')\n",
    "    print(d.get(key))\n"
   ]
  },
  {
   "cell_type": "code",
   "execution_count": 22,
   "metadata": {},
   "outputs": [
    {
     "name": "stdout",
     "output_type": "stream",
     "text": [
      "China,Beijing\n",
      "USA,Washington\n",
      "fruit,apple\n",
      "animal,cat\n"
     ]
    }
   ],
   "source": [
    "### 字典连接方式1 dict.update()\n",
    "d = {}\n",
    "d['China']= 'Beijing'\n",
    "d['USA']='Washington'\n",
    "\n",
    "d1={}\n",
    "d1['fruit']='apple'\n",
    "d1['animal']='cat'\n",
    "\n",
    "d.update(d1)\n",
    "\n",
    "for key in d.keys():\n",
    "    print(key,end=',')\n",
    "    print(d.get(key))"
   ]
  },
  {
   "cell_type": "code",
   "execution_count": 26,
   "metadata": {},
   "outputs": [
    {
     "name": "stdout",
     "output_type": "stream",
     "text": [
      "China,Beijing\n",
      "USA,Washington\n",
      "fruit,apple\n",
      "animal,cat\n"
     ]
    }
   ],
   "source": [
    "d = {}\n",
    "d['China']= 'Beijing'\n",
    "d['USA']='Washington'\n",
    "\n",
    "d1={}\n",
    "d1['fruit']='apple'\n",
    "d1['animal']='cat'\n",
    "\n",
    "####  下面为固定函数形式\n",
    "d = dict(d,**d1)\n",
    "\n",
    "for key in d.keys():\n",
    "    print(key,end=',')\n",
    "    print(d.get(key))"
   ]
  },
  {
   "cell_type": "code",
   "execution_count": 30,
   "metadata": {},
   "outputs": [
    {
     "data": {
      "text/plain": [
       "'cat'"
      ]
     },
     "execution_count": 30,
     "metadata": {},
     "output_type": "execute_result"
    }
   ],
   "source": [
    "d['animal']"
   ]
  },
  {
   "cell_type": "markdown",
   "metadata": {},
   "source": [
    "<h2>读取json以及xml</h2>"
   ]
  },
  {
   "cell_type": "markdown",
   "metadata": {},
   "source": [
    "<h3>json</h3>"
   ]
  },
  {
   "cell_type": "code",
   "execution_count": 5,
   "metadata": {},
   "outputs": [
    {
     "name": "stdout",
     "output_type": "stream",
     "text": [
      "{\"a\": 1, \"b\": 2, \"c\": 3, \"d\": 4, \"e\": 5}\n"
     ]
    }
   ],
   "source": [
    "### json可以加载列表，也可以加载字典\n",
    "\n",
    "### 加载字典\n",
    "import json\n",
    "\n",
    "data =  { 'a' : 1, 'b' : 2, 'c' : 3, 'd' : 4, 'e' : 5 } \n",
    "json1 = json.dumps(data)\n",
    "print (json1)\n",
    "\n",
    "\n",
    "\n",
    "json2 = json.loads(json1)\n",
    "print(json2)\n",
    "print(type(json2))\n",
    "\n",
    "### 加载列表\n",
    "\n",
    "data = [1,2,3,4]\n",
    "json3 = json.dumps(data)\n",
    "print(json3)\n",
    "\n",
    "json4 = json.loads(json3)\n",
    "print(json4)\n",
    "print(type(json4))"
   ]
  },
  {
   "cell_type": "code",
   "execution_count": 18,
   "metadata": {},
   "outputs": [],
   "source": [
    "### 写入与加载json文件\n",
    "\n",
    "### 写入json文件\n",
    "data =  { 'a' : 1, 'b' : 2, 'c' : 3, 'd' : 4, 'e' : 5 } \n",
    "###清空文件\n",
    "with open(\"RawTwo.json\",\"w+\") as rawtwo:\n",
    "    pass\n",
    "rawtwo.close()\n",
    "### 写入两行\n",
    "with open(\"RawTwo.json\",\"a+\") as rawtwo:\n",
    "    json.dump(data,rawtwo)\n",
    "    rawtwo.write('\\n')\n",
    "rawtwo.close()\n",
    "with open(\"RawTwo.json\",\"a+\") as rawtwo:\n",
    "    json.dump(data,rawtwo)\n",
    "    rawtwo.write('\\n')\n",
    "rawtwo.close()\n",
    "\n",
    "\n",
    "### 加载文件\n",
    "with open(\"Rawtwo.json\",\"r\") as rawtwo:\n",
    "    for line in rawtwo:\n",
    "        tmp = json.loads(line)\n",
    "        print(tmp)\n",
    "        print(type(tmp))\n",
    "rawtwo.close()"
   ]
  },
  {
   "cell_type": "markdown",
   "metadata": {},
   "source": [
    "<h3>xml文件</h3>\n",
    "相应网址：https://www.cnblogs.com/yupeng/p/3362031.html"
   ]
  },
  {
   "cell_type": "code",
   "execution_count": 1,
   "metadata": {},
   "outputs": [],
   "source": [
    "from bs4 import BeautifulSoup"
   ]
  },
  {
   "cell_type": "code",
   "execution_count": 2,
   "metadata": {},
   "outputs": [],
   "source": [
    "html_doc = \"\"\"\n",
    "<html><head><title>The Dormouse's story</title></head>\n",
    "<body>\n",
    "<p class=\"title\"><b>The Dormouse's story</b></p>\n",
    "\n",
    "<p class=\"story\">Once upon a time there were three little sisters; and their names were\n",
    "<a href=\"http://example.com/elsie\" class=\"sister\" id=\"link1\">Elsie</a>,\n",
    "<a href=\"http://example.com/lacie\" class=\"sister\" id=\"link2\">Lacie</a> and\n",
    "<a href=\"http://example.com/tillie\" class=\"sister\" id=\"link3\">Tillie</a>;\n",
    "and they lived at the bottom of a well.</p>\n",
    "\n",
    "<p class=\"story\">...</p>\n",
    "\n",
    "\"\"\""
   ]
  },
  {
   "cell_type": "code",
   "execution_count": 3,
   "metadata": {},
   "outputs": [],
   "source": [
    "soup = BeautifulSoup(html_doc)"
   ]
  },
  {
   "cell_type": "code",
   "execution_count": 10,
   "metadata": {},
   "outputs": [
    {
     "name": "stdout",
     "output_type": "stream",
     "text": [
      "soup.title      <title>The Dormouse's story</title>\n",
      "title.context   The Dormouse's story\n",
      "soup.title.name title\n",
      "title.string    The Dormouse's story\n"
     ]
    }
   ],
   "source": [
    "print(\"soup.title     \",soup.title)\n",
    "print(\"title.context  \",soup.title.text)  ##等价于soup.title.string\n",
    "print(\"soup.title.name\",soup.title.name)\n",
    "print(\"title.string   \",soup.title.string)"
   ]
  },
  {
   "cell_type": "code",
   "execution_count": 15,
   "metadata": {},
   "outputs": [
    {
     "name": "stdout",
     "output_type": "stream",
     "text": [
      "sopu.p\t <p class=\"title\"><b>The Dormouse's story</b></p>\n",
      "soup.p.text\t The Dormouse's story\n"
     ]
    }
   ],
   "source": [
    "print(\"sopu.p\\t\",soup.p)\n",
    "print(\"soup.p.text\\t\",soup.p.text)"
   ]
  },
  {
   "cell_type": "code",
   "execution_count": 16,
   "metadata": {},
   "outputs": [
    {
     "name": "stdout",
     "output_type": "stream",
     "text": [
      "sopu.a\t <a class=\"sister\" href=\"http://example.com/elsie\" id=\"link1\">Elsie</a>\n",
      "soup.a.text\t Elsie\n"
     ]
    }
   ],
   "source": [
    "print(\"sopu.a\\t\",soup.a)\n",
    "print(\"soup.a.text\\t\",soup.a.text)"
   ]
  },
  {
   "cell_type": "code",
   "execution_count": 33,
   "metadata": {},
   "outputs": [
    {
     "name": "stdout",
     "output_type": "stream",
     "text": [
      "<a class=\"sister\" href=\"http://example.com/elsie\" id=\"link1\">Elsie</a>\n",
      "Elsie\n",
      "Lacie\n",
      "Tillie\n"
     ]
    }
   ],
   "source": [
    "a = soup.find('a')\n",
    "print(a)                               ### find()函数按照最近匹配\n",
    "\n",
    "aa = soup.find_all('a')\n",
    "for a1 in aa:\n",
    "    print(a1.string)             ###得用find_all\n",
    "\n",
    "                                 ###函数。find_all 函数返回的是一个序列，可以对它进行循环，依次得到想到的东西."
   ]
  },
  {
   "cell_type": "code",
   "execution_count": 31,
   "metadata": {},
   "outputs": [
    {
     "name": "stdout",
     "output_type": "stream",
     "text": [
      "<a class=\"sister\" href=\"http://example.com/tillie\" id=\"link3\">Tillie</a>\n",
      "\n",
      "Tillie\n",
      "\n",
      "The Dormouse's story\n",
      "\n",
      "The Dormouse's story\n",
      "Once upon a time there were three little sisters; and their names were\n",
      "Elsie,\n",
      "Lacie and\n",
      "Tillie;\n",
      "and they lived at the bottom of a well.\n",
      "...\n",
      "\n"
     ]
    }
   ],
   "source": [
    "print(soup.find(id=\"link3\"))\n",
    "print()\n",
    "print(soup.find(id=\"link3\").string)\n",
    "print()\n",
    "print(soup.get_text())\n",
    "### get_text() 是返回文本,这个对每一个BeautifulSoup处理后的对象得到的标签都是生效的。你可以试试 print soup.p.get_text()\n",
    "# 其实是可以获得标签的其他属性的，\n",
    "# 比如我要获得a标签的href属性的值，可以使用 print soup.a['href'],类似的其他属性，比如class也是可以这么得到的（soup.a['class']）。"
   ]
  },
  {
   "cell_type": "code",
   "execution_count": 34,
   "metadata": {},
   "outputs": [
    {
     "name": "stdout",
     "output_type": "stream",
     "text": [
      "http://example.com/elsie\n",
      "['sister']\n"
     ]
    }
   ],
   "source": [
    "print(soup.a['href'])\n",
    "print(soup.a['class'])"
   ]
  },
  {
   "cell_type": "code",
   "execution_count": 39,
   "metadata": {},
   "outputs": [
    {
     "name": "stdout",
     "output_type": "stream",
     "text": [
      "<head><title>The Dormouse's story</title></head>\n",
      "[<title>The Dormouse's story</title>]\n"
     ]
    }
   ],
   "source": [
    "print(soup.head)\n",
    "print(soup.head.contents)"
   ]
  },
  {
   "cell_type": "code",
   "execution_count": 64,
   "metadata": {},
   "outputs": [
    {
     "name": "stdout",
     "output_type": "stream",
     "text": [
      "[<a class=\"sister\" href=\"http://example.com/elsie\" id=\"link1\">Elsie</a>, <a class=\"sister\" href=\"http://example.com/lacie\" id=\"link2\">Lacie</a>, <a class=\"sister\" href=\"http://example.com/tillie\" id=\"link3\">Tillie</a>]\n",
      "\n",
      "[<p class=\"title\"><b>The Dormouse's story</b></p>, <p class=\"story\">Once upon a time there were three little sisters; and their names were\n",
      "<a class=\"sister\" href=\"http://example.com/elsie\" id=\"link1\">Elsie</a>,\n",
      "<a class=\"sister\" href=\"http://example.com/lacie\" id=\"link2\">Lacie</a> and\n",
      "<a class=\"sister\" href=\"http://example.com/tillie\" id=\"link3\">Tillie</a>;\n",
      "and they lived at the bottom of a well.</p>, <p class=\"story\">...</p>]\n",
      "\n",
      "[<a class=\"sister\" href=\"http://example.com/elsie\" id=\"link1\">Elsie</a>, <a class=\"sister\" href=\"http://example.com/lacie\" id=\"link2\">Lacie</a>, <a class=\"sister\" href=\"http://example.com/tillie\" id=\"link3\">Tillie</a>]\n",
      "\n",
      "[<a class=\"sister\" href=\"http://example.com/elsie\" id=\"link1\">Elsie</a>, <a class=\"sister\" href=\"http://example.com/lacie\" id=\"link2\">Lacie</a>, <a class=\"sister\" href=\"http://example.com/tillie\" id=\"link3\">Tillie</a>]\n"
     ]
    }
   ],
   "source": [
    "### 按属性查找\n",
    "print (soup.find_all(\"a\", class_=\"sister\"))\n",
    "print()\n",
    "# print (soup.select(\"p.title\"))\n",
    "print (soup.select(\"p\"))\n",
    "print()\n",
    "print (soup.select(\"a.sister\"))       ### select(\"\")只能是a.sister  p.title 标签+类名\n",
    "print()\n",
    "print (soup.find_all(\"a\", attrs={\"class\": \"sister\"}))\n",
    "print()"
   ]
  },
  {
   "cell_type": "code",
   "execution_count": 66,
   "metadata": {},
   "outputs": [
    {
     "name": "stdout",
     "output_type": "stream",
     "text": [
      "[\"The Dormouse's story\", \"The Dormouse's story\"]\n"
     ]
    }
   ],
   "source": [
    "# 通过文本进行查找\n",
    "# print soup.find_all(text=\"Elsie\")\n",
    "# print soup.find_all(text=[\"Tillie\", \"Elsie\", \"Lacie\"])\n",
    "\n",
    "print(soup.find_all(text=\"The Dormouse's story\"))"
   ]
  },
  {
   "cell_type": "code",
   "execution_count": 69,
   "metadata": {},
   "outputs": [
    {
     "name": "stdout",
     "output_type": "stream",
     "text": [
      "[<a class=\"sister\" href=\"http://example.com/elsie\" id=\"link1\">Elsie</a>, <a class=\"sister\" href=\"http://example.com/lacie\" id=\"link2\">Lacie</a>]\n"
     ]
    }
   ],
   "source": [
    "# 限制结果个数\n",
    "# print soup.find_all(\"a\", limit=2)\n",
    "\n",
    "print(soup.find_all(\"a\",limit=2))"
   ]
  },
  {
   "cell_type": "code",
   "execution_count": 72,
   "metadata": {},
   "outputs": [
    {
     "name": "stdout",
     "output_type": "stream",
     "text": [
      "http://example.com/elsie\n",
      "http://example.com/lacie\n",
      "http://example.com/tillie\n"
     ]
    }
   ],
   "source": [
    "soup1 = soup.find_all('a')\n",
    "for so in soup1:\n",
    "    print(so['href'])"
   ]
  },
  {
   "cell_type": "code",
   "execution_count": 73,
   "metadata": {},
   "outputs": [
    {
     "name": "stdout",
     "output_type": "stream",
     "text": [
      "[<a class=\"sister\" href=\"http://example.com/lacie\" id=\"link2\">Lacie</a>]\n"
     ]
    }
   ],
   "source": [
    "print (soup.find_all(\"a\", attrs={\"href\":\"http://example.com/lacie\"}))"
   ]
  },
  {
   "cell_type": "code",
   "execution_count": null,
   "metadata": {},
   "outputs": [],
   "source": []
  }
 ],
 "metadata": {
  "kernelspec": {
   "display_name": "Python 3",
   "language": "python",
   "name": "python3"
  },
  "language_info": {
   "codemirror_mode": {
    "name": "ipython",
    "version": 3
   },
   "file_extension": ".py",
   "mimetype": "text/x-python",
   "name": "python",
   "nbconvert_exporter": "python",
   "pygments_lexer": "ipython3",
   "version": "3.7.0"
  }
 },
 "nbformat": 4,
 "nbformat_minor": 2
}
