{
 "cells": [
  {
   "cell_type": "code",
   "execution_count": 1,
   "metadata": {},
   "outputs": [
    {
     "name": "stdout",
     "output_type": "stream",
     "text": [
      "4\n"
     ]
    }
   ],
   "source": [
    "# ** 表示乘方\n",
    "# 相当于 pow(x,y)\n",
    "x=2\n",
    "y=2\n",
    "print(x**y)"
   ]
  },
  {
   "cell_type": "markdown",
   "metadata": {},
   "source": [
    "<h3>math库的使用</h3>"
   ]
  },
  {
   "cell_type": "code",
   "execution_count": 7,
   "metadata": {},
   "outputs": [
    {
     "data": {
      "text/plain": [
       "False"
      ]
     },
     "execution_count": 7,
     "metadata": {},
     "output_type": "execute_result"
    }
   ],
   "source": [
    "# math.pi math.inf math.nan \n",
    "# math.ceil(),math.floor()\n",
    "# math.fabs() fmod() fsum([])\n",
    "#math.isfinite(),math.isinf()\n",
    "#math.isnan()\n",
    "\n",
    "#math.factorial()\n",
    "import math\n",
    "math.factorial(5)\n",
    "math.isinf(5)"
   ]
  },
  {
   "cell_type": "code",
   "execution_count": 15,
   "metadata": {},
   "outputs": [
    {
     "data": {
      "text/plain": [
       "6"
      ]
     },
     "execution_count": 15,
     "metadata": {},
     "output_type": "execute_result"
    }
   ],
   "source": [
    "#math.pow() math.exp(x) \n",
    "#math.sqrt()\n",
    "#math.log(x[,base]) \n",
    "math.log(7)\n",
    "math.exp(2)\n",
    "round(5.5)"
   ]
  },
  {
   "cell_type": "markdown",
   "metadata": {},
   "source": [
    "<h3>day day up</h3>"
   ]
  },
  {
   "cell_type": "code",
   "execution_count": 1,
   "metadata": {},
   "outputs": [
    {
     "name": "stdout",
     "output_type": "stream",
     "text": [
      "向上 1.44, 向下 0.69\n"
     ]
    }
   ],
   "source": [
    "# 每天提高千分之一\n",
    "import math\n",
    "dayup=math.pow((1.0+0.001),365)\n",
    "daydown=math.pow((1.0-0.001),365)\n",
    "print(\"向上 {:.2f}, 向下 {:.2f}\".format(dayup,daydown))"
   ]
  },
  {
   "cell_type": "code",
   "execution_count": 2,
   "metadata": {},
   "outputs": [
    {
     "name": "stdout",
     "output_type": "stream",
     "text": [
      "向上 6.17, 向下 0.16\n"
     ]
    }
   ],
   "source": [
    "# 每天提高千分之五\n",
    "import math\n",
    "dayup=math.pow((1.0+0.005),365)\n",
    "daydown=math.pow((1.0-0.005),365)\n",
    "print(\"向上 {:.2f}, 向下 {:.2f}\".format(dayup,daydown))"
   ]
  },
  {
   "cell_type": "code",
   "execution_count": 3,
   "metadata": {},
   "outputs": [
    {
     "name": "stdout",
     "output_type": "stream",
     "text": [
      "向上 37.78, 向下 0.03\n"
     ]
    }
   ],
   "source": [
    "# 每天提高百分之一\n",
    "import math\n",
    "dayup=math.pow((1.0+0.01),365)\n",
    "daydown=math.pow((1.0-0.01),365)\n",
    "print(\"向上 {:.2f}, 向下 {:.2f}\".format(dayup,daydown))"
   ]
  },
  {
   "cell_type": "code",
   "execution_count": 6,
   "metadata": {},
   "outputs": [
    {
     "name": "stdout",
     "output_type": "stream",
     "text": [
      "变化幅度：4.81\n"
     ]
    }
   ],
   "source": [
    "# 工作日上，休息日下\n",
    "import math\n",
    "# dayup=math.pow((1.0+0.01),365)\n",
    "# daydown=math.pow((1.0-0.01),365)\n",
    "# print(\"向上 {:.2f}, 向下 {:.2f}\".format(dayup,daydown))\n",
    "day_ud=1\n",
    "day=0\n",
    "while(day<365):\n",
    "    day_ud *= math.pow(1.01,5)\n",
    "    day_ud *= math.pow(0.99,2)\n",
    "    day += 7\n",
    "print(\"变化幅度：{:.2f}\".format(day_ud))\n",
    "        "
   ]
  },
  {
   "cell_type": "code",
   "execution_count": 10,
   "metadata": {},
   "outputs": [],
   "source": [
    "# for i in range(10):\n",
    "#     if i %7 not in [6,0]:\n",
    "#         print(\"inline{}\".format(i))\n",
    "#     else:\n",
    "#         print(\"outline{}\".format(i))"
   ]
  },
  {
   "cell_type": "markdown",
   "metadata": {},
   "source": [
    "<h3>字符串处理</h3>"
   ]
  },
  {
   "cell_type": "code",
   "execution_count": 11,
   "metadata": {},
   "outputs": [],
   "source": [
    "## str.startswith(prefix[,start[,end]])\n",
    "## str.endswith(suffix[,start[,end]])\n",
    "\n",
    "## str.split(sep=None,maxsplit=-1)    str TO list\n",
    "## str.count(sub[,start[,end]])\n",
    "## str.replace(old,new[,count])\n",
    "## \n",
    "\n",
    "\n",
    "## 返回值皆为字符串副本\n",
    "## str.strip([chars]) \n",
    "## str.format()\n",
    "## str.join(iterable)"
   ]
  },
  {
   "cell_type": "code",
   "execution_count": 14,
   "metadata": {},
   "outputs": [
    {
     "name": "stdout",
     "output_type": "stream",
     "text": [
      "         Length:23.88   \n"
     ]
    }
   ],
   "source": [
    "print(\"{:>15s}:{:<8.2f}\".format(\"Length\",23.87501))"
   ]
  },
  {
   "cell_type": "code",
   "execution_count": 16,
   "metadata": {},
   "outputs": [
    {
     "name": "stdout",
     "output_type": "stream",
     "text": [
      "*********Length:23.88***\n"
     ]
    }
   ],
   "source": [
    "print(\"{:*>15}:{:*<8.2f}\".format(\"Length\",23.87501))"
   ]
  },
  {
   "cell_type": "code",
   "execution_count": 24,
   "metadata": {},
   "outputs": [
    {
     "name": "stdout",
     "output_type": "stream",
     "text": [
      "------执行时间------\n",
      " 0 %[->....................]\n",
      "10 %[**->..................]\n",
      "20 %[****->................]\n",
      "30 %[******->..............]\n",
      "40 %[********->............]\n",
      "50 %[**********->..........]\n",
      "60 %[************->........]\n",
      "70 %[**************->......]\n",
      "80 %[****************->....]\n",
      "90 %[******************->..]\n",
      "100%[********************->]\n",
      "------执行结束------\n"
     ]
    }
   ],
   "source": [
    "## 进度条\n",
    "import time\n",
    "scale = 10\n",
    "print('------执行时间------')\n",
    "for i in range(scale+1):\n",
    "    a,b = '**'*i,'..'*(scale-i)\n",
    "    c = i*10\n",
    "    print(\"{:^3.0f}%[{}->{}]\".format(c,a,b))\n",
    "    time.sleep(0.1)\n",
    "print(\"------执行结束------\")"
   ]
  },
  {
   "cell_type": "code",
   "execution_count": 27,
   "metadata": {},
   "outputs": [
    {
     "name": "stdout",
     "output_type": "stream",
     "text": [
      "100%"
     ]
    }
   ],
   "source": [
    "## 单行刷新\n",
    "\n",
    "import time\n",
    "for i in range(101):\n",
    "    print('\\r{:2}%'.format(i),end=\"\")\n",
    "    time.sleep(0.25)"
   ]
  },
  {
   "cell_type": "code",
   "execution_count": 3,
   "metadata": {},
   "outputs": [
    {
     "name": "stdout",
     "output_type": "stream",
     "text": [
      "-----------执行开始----------\n",
      "100%[**************************************************->]-25.33s\n",
      "-----------执行结束----------\n"
     ]
    }
   ],
   "source": [
    "import time\n",
    "scale = 50\n",
    "print(\"执行开始\".center(scale//2,'-'))\n",
    "\n",
    "# t=time.clock()\n",
    "# start=time.perf_counter()\n",
    "start=time.perf_counter()\n",
    "\n",
    "for i in range(scale+1):\n",
    "    a = '*' * i\n",
    "    b = '.' * (scale - i)\n",
    "    c = (i/scale)*100\n",
    "    \n",
    "    t = time.perf_counter()-start\n",
    "    print(\"\\r{:^3.0f}%[{}->{}]{:.2f}s\".format(c,a,b,-t),end='')\n",
    "    time.sleep(0.5)\n",
    "print(\"\\n\"+\"执行结束\".center(scale//2,'-'))\n"
   ]
  },
  {
   "cell_type": "code",
   "execution_count": 7,
   "metadata": {},
   "outputs": [
    {
     "name": "stdout",
     "output_type": "stream",
     "text": [
      "-----------打印开始----------\n",
      "100% [**************************************************->] 25.43s\n",
      "-----------打印结束----------\n"
     ]
    }
   ],
   "source": [
    "\n",
    "## print函数默认换行\n",
    "## 不换行 则加入 end=''\n",
    "import time\n",
    "\n",
    "scale=50\n",
    "print(\"打印开始\".center(scale//2,'-'))\n",
    "\n",
    "start=time.perf_counter()\n",
    "\n",
    "for i in range(scale+1):\n",
    "    a = '*' * i\n",
    "    b = '.' * (scale-i)\n",
    "    c= i/scale*100\n",
    "    t = time.perf_counter()-start\n",
    "    \n",
    "    print('\\r{:^3.0f}% [{}->{}] {:.2f}s'.format(c,a,b,t),end='')\n",
    "    time.sleep(0.5)\n",
    "print(\"\\n\"+\"打印结束\".center(scale//2,'-'))"
   ]
  },
  {
   "cell_type": "markdown",
   "metadata": {},
   "source": [
    "<h3>进度条库tqdm</h3>"
   ]
  },
  {
   "cell_type": "code",
   "execution_count": 12,
   "metadata": {},
   "outputs": [],
   "source": [
    "###  进度条第三方库\n",
    "\n",
    "# from tqdm import tqdm\n",
    "# from time import sleep\n",
    "\n",
    "# for i in tqdm(range(1,100)):\n",
    "#     print(i)\n",
    "#     sleep(0.5)\n",
    "    "
   ]
  },
  {
   "cell_type": "code",
   "execution_count": 17,
   "metadata": {},
   "outputs": [
    {
     "name": "stderr",
     "output_type": "stream",
     "text": [
      "\r",
      "  0%|                                                                                            | 0/4 [00:00<?, ?it/s]"
     ]
    },
    {
     "name": "stdout",
     "output_type": "stream",
     "text": [
      "\r",
      "a"
     ]
    },
    {
     "name": "stderr",
     "output_type": "stream",
     "text": [
      "\r",
      " 25%|█████████████████████                                                               | 1/4 [00:03<00:09,  3.00s/it]"
     ]
    },
    {
     "name": "stdout",
     "output_type": "stream",
     "text": [
      "\r",
      "ab"
     ]
    },
    {
     "name": "stderr",
     "output_type": "stream",
     "text": [
      "\r",
      " 50%|██████████████████████████████████████████                                          | 2/4 [00:06<00:06,  3.01s/it]"
     ]
    },
    {
     "name": "stdout",
     "output_type": "stream",
     "text": [
      "\r",
      "abc"
     ]
    },
    {
     "name": "stderr",
     "output_type": "stream",
     "text": [
      "\r",
      " 75%|███████████████████████████████████████████████████████████████                     | 3/4 [00:09<00:03,  3.01s/it]"
     ]
    },
    {
     "name": "stdout",
     "output_type": "stream",
     "text": [
      "\r",
      "abcd"
     ]
    },
    {
     "name": "stderr",
     "output_type": "stream",
     "text": [
      "100%|████████████████████████████████████████████████████████████████████████████████████| 4/4 [00:12<00:00,  3.01s/it]\n"
     ]
    }
   ],
   "source": [
    "from tqdm import tqdm,trange\n",
    "from time import sleep\n",
    "text = \"\"\n",
    "for char in tqdm([\"a\", \"b\", \"c\", \"d\"]):\n",
    "    text = text + char\n",
    "    sleep(3)\n",
    "    print(\"\\r{}\".format(text),end=\"\")"
   ]
  },
  {
   "cell_type": "code",
   "execution_count": null,
   "metadata": {},
   "outputs": [],
   "source": []
  }
 ],
 "metadata": {
  "kernelspec": {
   "display_name": "Python 3",
   "language": "python",
   "name": "python3"
  },
  "language_info": {
   "codemirror_mode": {
    "name": "ipython",
    "version": 3
   },
   "file_extension": ".py",
   "mimetype": "text/x-python",
   "name": "python",
   "nbconvert_exporter": "python",
   "pygments_lexer": "ipython3",
   "version": "3.7.0"
  }
 },
 "nbformat": 4,
 "nbformat_minor": 2
}
