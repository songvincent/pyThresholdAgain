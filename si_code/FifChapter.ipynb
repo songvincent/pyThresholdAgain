{
 "cells": [
  {
   "cell_type": "markdown",
   "metadata": {},
   "source": [
    "<h3>lambda函数</h3>"
   ]
  },
  {
   "cell_type": "code",
   "execution_count": 1,
   "metadata": {},
   "outputs": [
    {
     "name": "stdout",
     "output_type": "stream",
     "text": [
      "22\n"
     ]
    }
   ],
   "source": [
    "'''\n",
    "<函数名> = lambda <参数列表>:<表达式>\n",
    "等价于\n",
    "def <函数名>(<参数列表>):\n",
    "    return <表达式>\n",
    "\n",
    "'''\n",
    "\n",
    "f=lambda x,y: x+y\n",
    "m=f(10,12)\n",
    "print(m)"
   ]
  },
  {
   "cell_type": "markdown",
   "metadata": {},
   "source": [
    "<h3>datatime库</h3>\n",
    "datetime.datetime 以及 datetime.timedelta(days)即可"
   ]
  },
  {
   "cell_type": "code",
   "execution_count": 2,
   "metadata": {},
   "outputs": [],
   "source": [
    "import datetime\n",
    "\n",
    "datetime.datetime.now()\n",
    "\n",
    "someday=datetime.datetime.now()\n",
    "someday.isoweekday()\n",
    "\n",
    "datestr=someday.isoformat()\n",
    "\n",
    "someday.strftime(\"%Y-%m-%d\")"
   ]
  },
  {
   "cell_type": "code",
   "execution_count": 14,
   "metadata": {},
   "outputs": [],
   "source": [
    "now=datetime.datetime.now()\n",
    "interval=datetime.timedelta(1)\n",
    "\n",
    "(now+interval).strftime(\"%Y-%m-%d\")\n",
    "tom=(now+interval)\n",
    "\n",
    "print(\"明天是{0:%Y}年{0:%m}月{0:%d}日\".format(tom))"
   ]
  },
  {
   "cell_type": "markdown",
   "metadata": {},
   "source": [
    "<h3>递归</h3>"
   ]
  },
  {
   "cell_type": "code",
   "execution_count": 29,
   "metadata": {},
   "outputs": [
    {
     "name": "stdout",
     "output_type": "stream",
     "text": [
      "a->c\n",
      "a->b\n",
      "c->b\n",
      "a->c\n",
      "b->a\n",
      "b->c\n",
      "a->c\n"
     ]
    }
   ],
   "source": [
    "### 汉诺塔问题\n",
    "\n",
    "def move(a,b,c,n):\n",
    "    if n==0: return\n",
    "    move(a,c,b,n-1)\n",
    "    print(\"{}->{}\".format(a,c))\n",
    "    move(b,a,c,n-1)\n",
    "move(\"a\",\"b\",\"c\",3)"
   ]
  },
  {
   "cell_type": "code",
   "execution_count": null,
   "metadata": {},
   "outputs": [],
   "source": []
  }
 ],
 "metadata": {
  "kernelspec": {
   "display_name": "Python 3",
   "language": "python",
   "name": "python3"
  },
  "language_info": {
   "codemirror_mode": {
    "name": "ipython",
    "version": 3
   },
   "file_extension": ".py",
   "mimetype": "text/x-python",
   "name": "python",
   "nbconvert_exporter": "python",
   "pygments_lexer": "ipython3",
   "version": "3.7.0"
  }
 },
 "nbformat": 4,
 "nbformat_minor": 2
}
