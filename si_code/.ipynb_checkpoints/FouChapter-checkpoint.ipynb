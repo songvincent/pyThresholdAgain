{
 "cells": [
  {
   "cell_type": "markdown",
   "metadata": {},
   "source": [
    "<h3>random库</h3>"
   ]
  },
  {
   "cell_type": "code",
   "execution_count": 1,
   "metadata": {},
   "outputs": [],
   "source": [
    "import random\n",
    "\n",
    "## random.random()\n",
    "print(random.random())\n",
    "\n",
    "## random.uniform()\n",
    "print(random.uniform(1,10))\n",
    "\n",
    "## random.choice()\n",
    "print(random.choice(list(range(10))))\n",
    "\n",
    "## random.shuffle()\n",
    "ls=list(range(10))\n",
    "random.shuffle(ls)\n",
    "print(ls)\n",
    "\n",
    "## random.permutation()\n",
    "## Numpy函数\n",
    "\n",
    "# ls = list(range(10))\n",
    "# ls2=random.permutation(ls)\n",
    "# print(ls)\n",
    "# print(ls2)"
   ]
  },
  {
   "cell_type": "markdown",
   "metadata": {},
   "source": [
    "<h3>异常处理"
   ]
  },
  {
   "cell_type": "code",
   "execution_count": 10,
   "metadata": {},
   "outputs": [
    {
     "name": "stdout",
     "output_type": "stream",
     "text": [
      "请输入数字：N\n",
      "输入错误，请输入数据！！\n"
     ]
    }
   ],
   "source": [
    "try:\n",
    "    num=eval(input(\"请输入数字：\"))\n",
    "    print(num**2)\n",
    "except NameError:\n",
    "    print(\"输入错误，请输入数据！！\")"
   ]
  },
  {
   "cell_type": "markdown",
   "metadata": {},
   "source": [
    "<h3>练习题</h3>"
   ]
  },
  {
   "cell_type": "code",
   "execution_count": 5,
   "metadata": {},
   "outputs": [
    {
     "name": "stdout",
     "output_type": "stream",
     "text": [
      "猜测范围0-9\n",
      "请输入猜测次数：2\n",
      "可以猜测2次\n",
      "请输入数字：5\n",
      "遗憾，太大了\n",
      "请输入数字：1\n",
      "遗憾，太大了\n",
      "猜数次数完毕，游戏失败！\n"
     ]
    }
   ],
   "source": [
    "## 4.1 猜数游戏\n",
    "import random\n",
    "import time\n",
    "\n",
    "# T,N=3,3\n",
    "print(\"猜测范围0-9\")\n",
    "\n",
    "N=eval(input(\"请输入猜测次数：\"))\n",
    "T=N\n",
    "print('可以猜测%d次'%T)\n",
    "\n",
    "time.sleep(0.5)\n",
    "\n",
    "flag=0\n",
    "res=random.randint(0,10)\n",
    "while N>0:\n",
    "    N -= 1\n",
    "    tmp=eval(input(\"请输入数字：\"))\n",
    "    if tmp==res:\n",
    "#         print(\"恭喜你，正确答案为{}\".format(res))\n",
    "        print(\"预测{}次，你猜中了\".format(T-N))\n",
    "        global flag\n",
    "        flag=1\n",
    "        break\n",
    "    else:\n",
    "        if tmp> res:\n",
    "            print(\"遗憾，太大了\")\n",
    "        else:\n",
    "            print(\"遗憾，太小了\")\n",
    "if flag==0:\n",
    "    print(\"猜数次数完毕，游戏失败！\")"
   ]
  },
  {
   "cell_type": "code",
   "execution_count": 28,
   "metadata": {},
   "outputs": [
    {
     "name": "stdout",
     "output_type": "stream",
     "text": [
      "请输入字符串：zh中国  @@12\n"
     ]
    }
   ],
   "source": [
    "## 4.2 统计字符数\n",
    "# ch=input()\n",
    "# if '\\u4e00' <= ch <= '\\u9fff':\n",
    "#     print(\"1\")\n",
    "# else:\n",
    "#     print(\"0\")\n",
    "\n",
    "others,Chi_counter,Eng_counter,space_counter,num_counter=0,0,0,0,0\n",
    "in_str=input(\"请输入字符串：\")\n",
    "for c in in_str:\n",
    "#     print(c)\n",
    "    if c.isnumeric():\n",
    "        num_counter += 1\n",
    "    elif c==' ':\n",
    "        space_counter += 1\n",
    "    elif '\\u4e00' <= c <= '\\u9fff':\n",
    "        Chi_counter += 1\n",
    "    elif c.encode('UTF-8').isalpha():\n",
    "        Eng_counter += 1\n",
    "    \n",
    "    else:\n",
    "        others += 1\n",
    "        \n",
    "\n",
    "print(\"中文字符：\",Chi_counter)\n",
    "print(\"英文字符：\",Eng_counter)\n",
    "print(\"数字字符：\",num_counter)\n",
    "print(\"空格字符：\",space_counter)\n",
    "print(\"其他字符：\",others)"
   ]
  },
  {
   "cell_type": "code",
   "execution_count": 37,
   "metadata": {},
   "outputs": [
    {
     "name": "stdout",
     "output_type": "stream",
     "text": [
      "请输入第一个数：15\n",
      "请输入第二个数：25\n",
      "最大公约数： 5\n",
      "最小公倍数：75\n"
     ]
    }
   ],
   "source": [
    "### 4.3 最大公约数gcd\n",
    "### 辗转相除法\n",
    "\n",
    "a=eval(input(\"请输入第一个数：\"))\n",
    "b=eval(input(\"请输入第二个数：\"))\n",
    "a1,b1=a,b\n",
    "if a<b:\n",
    "    a,b=b,a\n",
    "t = a%b\n",
    "while t != 0:\n",
    "    a,b=b,t\n",
    "    t=a%b\n",
    "print(\"最大公约数：\",b)\n",
    "print(\"最小公倍数：%d\"%(a1*b1/b))"
   ]
  },
  {
   "cell_type": "code",
   "execution_count": 6,
   "metadata": {},
   "outputs": [
    {
     "name": "stdout",
     "output_type": "stream",
     "text": [
      "猜测范围0-100\n",
      "请输入猜测次数：5\n",
      "可以猜测5次\n",
      "请输入数字：30\n",
      "遗憾，太大了\n",
      "请输入数字：10\n",
      "遗憾，太小了\n",
      "请输入数字：19\n",
      "预测3次，你猜中了！\n"
     ]
    }
   ],
   "source": [
    "### 4.4 猜数游戏\n",
    "\n",
    "import random\n",
    "\n",
    "print(\"猜测范围0-100\")\n",
    "# total,n=5,5\n",
    "n=eval(input(\"请输入猜测次数：\"))\n",
    "total=n\n",
    "print(\"可以猜测%d次\"%total)\n",
    "flag=0\n",
    "res=random.randint(0,100)\n",
    "while n>0:\n",
    "    n -= 1\n",
    "    tmp = eval(input(\"请输入数字：\"))\n",
    "    if tmp == res:\n",
    "        print(\"预测%d次，你猜中了！\"%(total-n))\n",
    "        global flag\n",
    "        flag=1\n",
    "        break\n",
    "    else:\n",
    "        if tmp > res:\n",
    "            print(\"遗憾，太大了\")\n",
    "        else:\n",
    "            print(\"遗憾，太小了\")\n",
    "if flag == 0:\n",
    "    print(\"猜测次数完毕，游戏失败\")"
   ]
  },
  {
   "cell_type": "code",
   "execution_count": 10,
   "metadata": {},
   "outputs": [
    {
     "name": "stdout",
     "output_type": "stream",
     "text": [
      "猜测范围0-100\n",
      "请输入猜测次数5\n",
      "可以猜测5次\n",
      "请输入数字：n\n",
      "遗憾，太小了\n",
      "请输入数字：s\n",
      "输入内容必须为整数！\n",
      "请输入数字：n\n",
      "遗憾，太小了\n",
      "请输入数字：m\n",
      "输入内容必须为整数！\n",
      "请输入数字：n\n",
      "遗憾，太小了\n",
      "请输入数字：a\n",
      "输入内容必须为整数！\n",
      "请输入数字：n\n",
      "遗憾，太小了\n",
      "请输入数字：x\n",
      "输入内容必须为整数！\n",
      "请输入数字：5\n",
      "遗憾，太小了\n",
      "猜测次数完毕，游戏失败！\n"
     ]
    }
   ],
   "source": [
    "### 4.5 猜数游戏异常处理\n",
    "\n",
    "## 输入最好不要用n\n",
    "## 因为前面定义过n\n",
    "## eval 会将 eval('n')中的'n'解析为变量\n",
    "\n",
    "import random\n",
    "\n",
    "print(\"猜测范围0-100\")\n",
    "try:\n",
    "    n=eval(input(\"请输入猜测次数\"))\n",
    "except:\n",
    "    print(\"输入内容必须为整数！\")\n",
    "    n=eval(input(\"请输入猜测次数\"))\n",
    "total=n\n",
    "print(\"可以猜测%d次\"%n)\n",
    "\n",
    "flag=0\n",
    "\n",
    "res=random.randint(0,100)\n",
    "while n>0:\n",
    "    n -= 1\n",
    "    try:\n",
    "        tmp=eval(input(\"请输入数字：\"))\n",
    "    except:\n",
    "        print(\"输入内容必须为整数！\")\n",
    "        n+=1\n",
    "        continue\n",
    "    if tmp == res:\n",
    "        print(\"预测%d次，你猜中了！\"%(total-n))\n",
    "        global flag\n",
    "        flag=1\n",
    "        break\n",
    "    else:\n",
    "        if tmp>res:\n",
    "            print(\"遗憾，太大了\")\n",
    "        else:\n",
    "            print(\"遗憾，太小了\")\n",
    "if flag==0:\n",
    "    print(\"猜测次数完毕，游戏失败！\")"
   ]
  },
  {
   "cell_type": "code",
   "execution_count": 29,
   "metadata": {},
   "outputs": [
    {
     "name": "stdout",
     "output_type": "stream",
     "text": [
      "坚持猜中概率 0.32\n",
      "改变猜中概率0.63\n"
     ]
    }
   ],
   "source": [
    "### 4.6 羊车门问题\n",
    "\n",
    "import random\n",
    "\n",
    "car=random.randint(1,3)\n",
    "# if car==1:\n",
    "#     goat1,goat2=2,3\n",
    "# elif car=2:\n",
    "#     goat1,goat2=1,3\n",
    "# elif:\n",
    "#     goat1,goat2=1,2\n",
    "\n",
    "N=1000\n",
    "\n",
    "## random.seed()防止产生伪随机数\n",
    "\n",
    "## not change\n",
    "win=0\n",
    "for i in range(N):\n",
    "    random.seed()\n",
    "    choice = random.randint(1,3)\n",
    "    if choice == car:\n",
    "        win += 1\n",
    "print(\"坚持猜中概率 {:.2f}\".format(win/N))\n",
    "\n",
    "\n",
    "## change\n",
    "win=0\n",
    "for i in range(N):\n",
    "    random.seed()\n",
    "    choice = random.randint(1,3)\n",
    "    if choice == car:\n",
    "        continue\n",
    "    else:\n",
    "        win += 1\n",
    "print(\"改变猜中概率{:.2f}\".format(win/N))\n",
    "    "
   ]
  },
  {
   "cell_type": "code",
   "execution_count": 38,
   "metadata": {},
   "outputs": [
    {
     "name": "stdout",
     "output_type": "stream",
     "text": [
      "请输入圆半径：25\n",
      "圆面积和周长 1963.44,157.08\n"
     ]
    }
   ],
   "source": [
    "## 程序改造\n",
    "try:\n",
    "    R=eval(input(\"请输入圆半径：\"))\n",
    "except NameError:\n",
    "    print(\"输入错误，请输入数字！请再次运行\")\n",
    "else:\n",
    "    S=3.1415*R*R\n",
    "    L=2*3.1415*R\n",
    "    print(\"圆面积和周长 {:.2f},{:.2f}\".format(S,L))"
   ]
  },
  {
   "cell_type": "code",
   "execution_count": null,
   "metadata": {},
   "outputs": [],
   "source": []
  }
 ],
 "metadata": {
  "kernelspec": {
   "display_name": "Python 3",
   "language": "python",
   "name": "python3"
  },
  "language_info": {
   "codemirror_mode": {
    "name": "ipython",
    "version": 3
   },
   "file_extension": ".py",
   "mimetype": "text/x-python",
   "name": "python",
   "nbconvert_exporter": "python",
   "pygments_lexer": "ipython3",
   "version": "3.7.0"
  }
 },
 "nbformat": 4,
 "nbformat_minor": 2
}
