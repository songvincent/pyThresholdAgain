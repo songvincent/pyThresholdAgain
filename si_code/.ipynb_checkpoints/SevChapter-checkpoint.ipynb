{
 "cells": [
  {
   "cell_type": "markdown",
   "metadata": {},
   "source": [
    "<h3>文件读写</h3>"
   ]
  },
  {
   "cell_type": "code",
   "execution_count": 2,
   "metadata": {},
   "outputs": [],
   "source": [
    "###  逐行处理文件\n",
    "# fo = open(\"song.txt\",\"r\")\n",
    "# for line in fo:\n",
    "#     print(line)\n",
    "# fo.close()"
   ]
  },
  {
   "cell_type": "code",
   "execution_count": 4,
   "metadata": {},
   "outputs": [],
   "source": [
    "### f.writelines()\n",
    "### 将列表中的元素连接而直接输出\n",
    "### 没有换行操作\n",
    "fo=open(\"test.txt\",'w+')\n",
    "ls=[\"围城\",\"边城\",\"呐喊\"]\n",
    "fo.writelines(ls)\n",
    "fo.close()"
   ]
  },
  {
   "cell_type": "markdown",
   "metadata": {},
   "source": [
    "<h3>数据格式化</h3>"
   ]
  },
  {
   "cell_type": "markdown",
   "metadata": {},
   "source": [
    "<h4>CSV</h4>"
   ]
  },
  {
   "cell_type": "code",
   "execution_count": 6,
   "metadata": {},
   "outputs": [],
   "source": [
    "## \n",
    "# for line in fo:\n",
    "#     line = line.strip()\n",
    "\n",
    "## 列表中的数据转字符\n",
    "## \n",
    "# ls[i][j]='{:.2}%'.format(ls[i][j]/100)"
   ]
  },
  {
   "cell_type": "markdown",
   "metadata": {},
   "source": [
    "<h4>csv-->Html</h4>"
   ]
  },
  {
   "cell_type": "code",
   "execution_count": 7,
   "metadata": {},
   "outputs": [],
   "source": [
    "### P204页\n",
    "### 将所有的页面内容均写入html文件"
   ]
  },
  {
   "cell_type": "markdown",
   "metadata": {},
   "source": [
    "<h4>Json</h4>"
   ]
  },
  {
   "cell_type": "code",
   "execution_count": 8,
   "metadata": {},
   "outputs": [],
   "source": [
    "import json\n",
    "dt = {'b':2,'c':4,'a':6}\n",
    "s1=json.dumps(dt)\n",
    "s2=json.dumps(dt,sort_keys=True,indent=4)\n",
    "\n",
    "print(s1)\n",
    "print(s2)\n",
    "\n",
    "dt2 = json.loads(s2)\n",
    "print(dt2)"
   ]
  },
  {
   "cell_type": "markdown",
   "metadata": {},
   "source": [
    "<h4>Json< - - - - > Csv</h4>"
   ]
  },
  {
   "cell_type": "code",
   "execution_count": null,
   "metadata": {},
   "outputs": [],
   "source": [
    "## csv2json\n",
    "\n",
    "## zip函数，非常易于生成键值对\n",
    "\n"
   ]
  },
  {
   "cell_type": "markdown",
   "metadata": {},
   "source": [
    "<h3>程序练习题</h3>"
   ]
  },
  {
   "cell_type": "code",
   "execution_count": 27,
   "metadata": {},
   "outputs": [
    {
     "name": "stdout",
     "output_type": "stream",
     "text": [
      "查询请按1，添加请按2，退出请按0：1\n",
      "请输入查询单词：hello\n",
      "字典库中未找到这个单词\n"
     ]
    }
   ],
   "source": [
    "### 7.5  英文词典\n",
    "\n",
    "### f.seek(offset,whence)\n",
    "### whence值\n",
    "### 0表示开头，1表示当前位置，2表示结尾\n",
    "\n",
    "f=open(\"context.txt\",'r+')\n",
    "\n",
    "try:\n",
    "    flag=eval(input(\"查询请按1，添加请按2，退出请按0：\"))\n",
    "except:\n",
    "    print(\"输入有误\")\n",
    "else:\n",
    "    if flag == 2:\n",
    "        eng=input(\"请输入英文单词：\")\n",
    "        eng=eng.strip()\n",
    "        chi=input(\"请输入中文释义：\")\n",
    "        chi=chi.strip()\n",
    "        f.seek(0,2)\n",
    "        f.write(eng+','+chi+'\\n')\n",
    "        print(\"该单词已添加到字典库\")\n",
    "    elif flag == 1:\n",
    "        ls=[]\n",
    "        dt={}\n",
    "        for line in f:\n",
    "#             print(\"line\",line)\n",
    "            line = line.strip()\n",
    "            ls.append(line.split(','))\n",
    "#         print(\"ls\",ls)\n",
    "        for l in ls:\n",
    "            dt[l[0]]=l[1]\n",
    "        eng=input(\"请输入查询单词：\")\n",
    "#         print(eng)\n",
    "#         print(dt.keys())\n",
    "        if eng in dt.keys():\n",
    "            print(dt[eng])\n",
    "        else:\n",
    "            print(\"字典库中未找到这个单词\")\n",
    "\n",
    "    #     print(dt[eng])\n",
    "    elif flag==0:\n",
    "        print(\"已退出\")\n",
    "    else:\n",
    "        print(\"输入有误\")\n",
    "    \n",
    "    \n",
    "\n",
    "\n",
    "\n",
    "\n",
    "f.close()"
   ]
  },
  {
   "cell_type": "code",
   "execution_count": 81,
   "metadata": {},
   "outputs": [
    {
     "name": "stdout",
     "output_type": "stream",
     "text": [
      "查询请按1，添加请按2，退出请按0：1\n",
      "请输入查询单词：plane\n",
      "飞机,大飞机\n"
     ]
    }
   ],
   "source": [
    "### 7.6  扩展英文词典\n",
    "\n",
    "## 返回值为文本相应内容\n",
    "ls=[]\n",
    "def search(f):\n",
    "    ls.clear()\n",
    "    \n",
    "    for line in f:\n",
    "        line=line.strip()\n",
    "        ls.append(line.split(\",\"))\n",
    "    return ls\n",
    "\n",
    "\n",
    "## 以w+模式打开无法读文件\n",
    "## 局部变量list无法返回值，返回为空\n",
    "## list中添加list的方法\n",
    "## 模块化的函数思想还要加强\n",
    "\n",
    "\n",
    "f=open(\"context.txt\",'r+')\n",
    "\n",
    "try:\n",
    "    flag=eval(input(\"查询请按1，添加请按2，退出请按0：\"))\n",
    "except:\n",
    "    print(\"输入有误\")\n",
    "else:\n",
    "    if flag == 2:\n",
    "        eng=input(\"请输入英文单词：\")\n",
    "        eng=eng.strip()\n",
    "        chi=input(\"请输入中文释义：\")\n",
    "        chi=chi.strip()\n",
    "        ls=search(f)\n",
    "#         print(ls)\n",
    "        for i in ls:\n",
    "            if i[0] == eng:\n",
    "                i.append(chi)\n",
    "                break\n",
    "        else:\n",
    "            tmp=[]\n",
    "            tmp.append(eng)\n",
    "            tmp.append(chi)\n",
    "            ls.append(tmp)\n",
    "#             print(\"ls\",ls)\n",
    "#             print(eng+','+chi)\n",
    "        f.seek(0,0)\n",
    "        for li in ls:\n",
    "            li=','.join(li)\n",
    "#             print(li)\n",
    "#           \n",
    "            f.write(li+'\\n')\n",
    "#         f.seek(0,2)\n",
    "#         f.write(eng+','+chi+'\\n')\n",
    "        print(\"该单词已添加到字典库\")\n",
    "    elif flag == 1:\n",
    "        ls=search(f)\n",
    "        \n",
    "        eng=input(\"请输入查询单词：\")\n",
    "#         print(eng)\n",
    "#         print(dt.keys())\n",
    "        for i in ls:\n",
    "            if i[0] == eng:\n",
    "                tmp = i.copy()\n",
    "                del tmp[0]\n",
    "                print(\",\".join(tmp))\n",
    "                break\n",
    "        else:\n",
    "            print(\"字典库中未找到这个单词\")\n",
    "\n",
    "    #     print(dt[eng])\n",
    "    elif flag==0:\n",
    "        print(\"已退出\")\n",
    "    else:\n",
    "        print(\"输入有误\")\n",
    "    \n",
    "    \n",
    "\n",
    "\n",
    "\n",
    "\n",
    "f.close()"
   ]
  },
  {
   "cell_type": "code",
   "execution_count": null,
   "metadata": {},
   "outputs": [],
   "source": []
  }
 ],
 "metadata": {
  "kernelspec": {
   "display_name": "Python 3",
   "language": "python",
   "name": "python3"
  },
  "language_info": {
   "codemirror_mode": {
    "name": "ipython",
    "version": 3
   },
   "file_extension": ".py",
   "mimetype": "text/x-python",
   "name": "python",
   "nbconvert_exporter": "python",
   "pygments_lexer": "ipython3",
   "version": "3.7.0"
  }
 },
 "nbformat": 4,
 "nbformat_minor": 2
}
