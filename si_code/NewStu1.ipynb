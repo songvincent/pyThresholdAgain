{
 "cells": [
  {
   "cell_type": "markdown",
   "metadata": {},
   "source": [
    "<h2>第一弹之零碎不会</h2>"
   ]
  },
  {
   "cell_type": "code",
   "execution_count": 2,
   "metadata": {},
   "outputs": [
    {
     "name": "stdout",
     "output_type": "stream",
     "text": [
      "hello,world!\n",
      "3032683898608\n",
      "hello,world!!!!\n",
      "3032683898864\n"
     ]
    }
   ],
   "source": [
    "### id()\n",
    "### 用于获取内存地址\n",
    "\n",
    "a = \"hello,world!\"\n",
    "print(a)\n",
    "print(id(a))\n",
    "\n",
    "b = \"hello,world!!!!\"\n",
    "print(b)\n",
    "print(id(b))"
   ]
  },
  {
   "cell_type": "code",
   "execution_count": 19,
   "metadata": {},
   "outputs": [
    {
     "name": "stdout",
     "output_type": "stream",
     "text": [
      "[1, 2, 2, 3, 4, 7]\n",
      "[1, 4, 2, 3, 2, 7]\n",
      "5\n"
     ]
    }
   ],
   "source": [
    "### sorted 排序\n",
    "\n",
    "l = [1,4,2,3,2,7]\n",
    "print(sorted(l))\n",
    "print(l)\n",
    "print(l.index(7))"
   ]
  },
  {
   "cell_type": "code",
   "execution_count": 21,
   "metadata": {},
   "outputs": [
    {
     "name": "stdout",
     "output_type": "stream",
     "text": [
      "China,Beijing\n",
      "USA,Washington\n",
      "fruit,apple\n",
      "animal,cat\n"
     ]
    }
   ],
   "source": [
    "####  add clear discard remove isdisjoint\n",
    "#### append insert(i,x) remove(x) pop(i) clear() reserve\n",
    "\n",
    "\n",
    "\n",
    "\n",
    "\n",
    "### dict 之字典类型\n",
    "\n",
    "### dict.update(dict2) 把字典dict2的键/值对更新到dict里\n",
    "### dict.has_key(key)\n",
    "### d.get(key,默认值)\n",
    "### d.pop(key,默认值)\n",
    "### d.clear(),del \n",
    "\n",
    "d = {}\n",
    "d['China']= 'Beijing'\n",
    "d['USA']='Washington'\n",
    "\n",
    "d1={}\n",
    "d1['fruit']='apple'\n",
    "d1['animal']='cat'\n",
    "d.update(d1)\n",
    "\n",
    "for key in d.keys():\n",
    "    print(key,end=',')\n",
    "    print(d.get(key))\n"
   ]
  },
  {
   "cell_type": "code",
   "execution_count": 22,
   "metadata": {},
   "outputs": [
    {
     "name": "stdout",
     "output_type": "stream",
     "text": [
      "China,Beijing\n",
      "USA,Washington\n",
      "fruit,apple\n",
      "animal,cat\n"
     ]
    }
   ],
   "source": [
    "### 字典连接方式1 dict.update()\n",
    "d = {}\n",
    "d['China']= 'Beijing'\n",
    "d['USA']='Washington'\n",
    "\n",
    "d1={}\n",
    "d1['fruit']='apple'\n",
    "d1['animal']='cat'\n",
    "\n",
    "d.update(d1)\n",
    "\n",
    "for key in d.keys():\n",
    "    print(key,end=',')\n",
    "    print(d.get(key))"
   ]
  },
  {
   "cell_type": "code",
   "execution_count": 26,
   "metadata": {},
   "outputs": [
    {
     "name": "stdout",
     "output_type": "stream",
     "text": [
      "China,Beijing\n",
      "USA,Washington\n",
      "fruit,apple\n",
      "animal,cat\n"
     ]
    }
   ],
   "source": [
    "d = {}\n",
    "d['China']= 'Beijing'\n",
    "d['USA']='Washington'\n",
    "\n",
    "d1={}\n",
    "d1['fruit']='apple'\n",
    "d1['animal']='cat'\n",
    "\n",
    "d = dict(d,**d1)\n",
    "\n",
    "for key in d.keys():\n",
    "    print(key,end=',')\n",
    "    print(d.get(key))"
   ]
  },
  {
   "cell_type": "code",
   "execution_count": 30,
   "metadata": {},
   "outputs": [
    {
     "data": {
      "text/plain": [
       "'cat'"
      ]
     },
     "execution_count": 30,
     "metadata": {},
     "output_type": "execute_result"
    }
   ],
   "source": [
    "d['animal']"
   ]
  },
  {
   "cell_type": "markdown",
   "metadata": {},
   "source": [
    "<h2>读取json以及xml</h2>"
   ]
  },
  {
   "cell_type": "code",
   "execution_count": null,
   "metadata": {},
   "outputs": [],
   "source": []
  }
 ],
 "metadata": {
  "kernelspec": {
   "display_name": "Python 3",
   "language": "python",
   "name": "python3"
  },
  "language_info": {
   "codemirror_mode": {
    "name": "ipython",
    "version": 3
   },
   "file_extension": ".py",
   "mimetype": "text/x-python",
   "name": "python",
   "nbconvert_exporter": "python",
   "pygments_lexer": "ipython3",
   "version": "3.7.0"
  }
 },
 "nbformat": 4,
 "nbformat_minor": 2
}
