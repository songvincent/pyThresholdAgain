{
 "cells": [
  {
   "cell_type": "markdown",
   "metadata": {},
   "source": [
    "<h3>tuple元组</h3>"
   ]
  },
  {
   "cell_type": "code",
   "execution_count": 1,
   "metadata": {},
   "outputs": [],
   "source": [
    "## 用逗号连接，可以不加括号\n",
    "## 用于多返回值，多变量同步赋值，循环遍历\n",
    "creature='cat','dog','tiger'\n",
    "color='red','green','blue',creature\n",
    "\n",
    "# 循环遍历\n",
    "import math\n",
    "for x,y in ((1,0),(2,5),(3,8)):\n",
    "    print(math.hypot(x,y))"
   ]
  },
  {
   "cell_type": "markdown",
   "metadata": {},
   "source": [
    "<h3>set集合</h3>"
   ]
  },
  {
   "cell_type": "code",
   "execution_count": 10,
   "metadata": {},
   "outputs": [
    {
     "name": "stdout",
     "output_type": "stream",
     "text": [
      "{'e', 'p', 'a', 'l'}\n",
      "{'cat', 'dog'}\n"
     ]
    }
   ],
   "source": [
    "## 成员关系测试，去重，删除数据项\n",
    "## set={\"python\",\"java\"}\n",
    "w=set('apple')\n",
    "print(w)\n",
    "\n",
    "### set()括号内只能接受一个元素\n",
    "### 且不接收list，dict，set\n",
    "v=set((\"cat\",\"dog\"))\n",
    "print(v)\n",
    "\n",
    "###  操作\n",
    "\n",
    "# '''\n",
    "# set.add(x)\n",
    "# set.clear()\n",
    "\n",
    "# s.copy()\n",
    "# s.pop()\n",
    "\n",
    "# set.discard(x)\n",
    "# set.remove(x)  报keyError\n",
    "\n",
    "# S.isdisjoint(T) 是否相交\n",
    "\n",
    "# len(S)\n",
    "# x in S\n",
    "# x not in S\n",
    "\n",
    "# '''"
   ]
  },
  {
   "cell_type": "markdown",
   "metadata": {},
   "source": [
    "<h3>list列表</h3>"
   ]
  },
  {
   "cell_type": "code",
   "execution_count": 3,
   "metadata": {},
   "outputs": [],
   "source": [
    "## ls += lt ls.extend(lt) 连接列表\n",
    "## ls *= n\n",
    "## ls.append(x)   添加元素\n",
    "## ls.insert(i,x)\n",
    "## ls.pop(i) 取出并删除\n",
    "## ls.remove(x)\n",
    "## \n",
    "\n",
    "from math import sqrt\n",
    "def getNum():\n",
    "    ls=[]\n",
    "    while True:\n",
    "        x=input(\"请输入数据（按回车输入结束）：\")\n",
    "        if x =='':\n",
    "            break\n",
    "        else:\n",
    "            x=eval(x)\n",
    "            ls.append(x)\n",
    "    return ls"
   ]
  },
  {
   "cell_type": "code",
   "execution_count": 9,
   "metadata": {},
   "outputs": [],
   "source": [
    "def mean(ls):\n",
    "    total = 0\n",
    "    for i in ls:\n",
    "        total += i\n",
    "    return total/len(ls)"
   ]
  },
  {
   "cell_type": "code",
   "execution_count": 14,
   "metadata": {},
   "outputs": [],
   "source": [
    "def dev(ls,m):\n",
    "    total=0\n",
    "    for si in ls:\n",
    "        total += (si-m)**2\n",
    "    var=total/(len(ls)-1)\n",
    "    sd=sqrt(var)\n",
    "    return sd\n",
    "    "
   ]
  },
  {
   "cell_type": "code",
   "execution_count": 20,
   "metadata": {},
   "outputs": [],
   "source": [
    "def median(ls):\n",
    "    cls=sorted(ls)\n",
    "    leng=len(cls)\n",
    "    if leng%2 == 0:\n",
    "        return (cls[leng//2-1]+cls[leng//2])/2\n",
    "    else:\n",
    "        return cls[leng//2]"
   ]
  },
  {
   "cell_type": "code",
   "execution_count": 24,
   "metadata": {},
   "outputs": [
    {
     "name": "stdout",
     "output_type": "stream",
     "text": [
      "请输入数据（按回车输入结束）：12\n",
      "请输入数据（按回车输入结束）：13\n",
      "请输入数据（按回车输入结束）：14\n",
      "请输入数据（按回车输入结束）：15\n",
      "请输入数据（按回车输入结束）：\n",
      "平均值：13.50\n",
      "标准差：1.29\n",
      "中位数：13.50.\n"
     ]
    }
   ],
   "source": [
    "ls=getNum()\n",
    "m=mean(ls)\n",
    "print(\"平均值：{:.2f}\".format(m))\n",
    "sd=dev(ls,m)\n",
    "print(\"标准差：{:.2f}\".format(sd))\n",
    "med=median(ls)\n",
    "print(\"中位数：{:.2f}.\".format(med))"
   ]
  },
  {
   "cell_type": "markdown",
   "metadata": {},
   "source": [
    "<h3>dict字典</h3>"
   ]
  },
  {
   "cell_type": "code",
   "execution_count": 31,
   "metadata": {},
   "outputs": [
    {
     "name": "stdout",
     "output_type": "stream",
     "text": [
      "{'中国': '北京', '美国': '华盛顿', '法国': '巴黎', '英国': '伦敦'}\n"
     ]
    }
   ],
   "source": [
    "docuntry={'中国':\"北京\",\"美国\":\"华盛顿\",\"法国\":\"巴黎\"}\n",
    "docuntry['英国']=\"伦敦\"\n",
    "print(docuntry)"
   ]
  },
  {
   "cell_type": "code",
   "execution_count": 34,
   "metadata": {},
   "outputs": [
    {
     "name": "stdout",
     "output_type": "stream",
     "text": [
      "dict_keys(['中国', '美国', '法国', '英国'])\n",
      "dict_values(['北京', '华盛顿', '巴黎', '伦敦'])\n",
      "dict_items([('中国', '北京'), ('美国', '华盛顿'), ('法国', '巴黎'), ('英国', '伦敦')])\n",
      "北京\n",
      "dict_items([('中国', '北京'), ('美国', '华盛顿'), ('英国', '伦敦')])\n"
     ]
    }
   ],
   "source": [
    "print(docuntry.keys())\n",
    "print(docuntry.values())\n",
    "print(docuntry.items())\n",
    "print(docuntry.get('中国'))\n",
    "del docuntry['法国']\n",
    "print(docuntry.items())"
   ]
  },
  {
   "cell_type": "code",
   "execution_count": 39,
   "metadata": {},
   "outputs": [
    {
     "name": "stdout",
     "output_type": "stream",
     "text": [
      "中国:北京\n",
      "美国:华盛顿\n",
      "英国:伦敦\n"
     ]
    }
   ],
   "source": [
    "for i in docuntry:\n",
    "    print(i,end=\":\")\n",
    "    print(docuntry.get(i))"
   ]
  },
  {
   "cell_type": "markdown",
   "metadata": {},
   "source": [
    "<h3>jieba库</h3>"
   ]
  },
  {
   "cell_type": "code",
   "execution_count": 41,
   "metadata": {},
   "outputs": [
    {
     "name": "stderr",
     "output_type": "stream",
     "text": [
      "Building prefix dict from the default dictionary ...\n",
      "Dumping model to file cache C:\\Users\\IRLAB~1\\AppData\\Local\\Temp\\jieba.cache\n",
      "Loading model cost 0.658 seconds.\n",
      "Prefix dict has been built succesfully.\n"
     ]
    },
    {
     "data": {
      "text/plain": [
       "['中华人民共和国', '是', '一个', '伟大', '的', '国家']"
      ]
     },
     "execution_count": 41,
     "metadata": {},
     "output_type": "execute_result"
    }
   ],
   "source": [
    "import jieba\n",
    "jieba.lcut(\"中华人民共和国是一个伟大的国家\")\n",
    "\n",
    "jieba.add_word(\"习大大\")\n",
    "jieba.lcut(\"习大大期盼有更好的教育\")"
   ]
  },
  {
   "cell_type": "code",
   "execution_count": null,
   "metadata": {},
   "outputs": [],
   "source": [
    "## counts[word]=counts.get(word,0)+1\n",
    "### 字典排序\n",
    "## items=list(counts.items())\n",
    "## items.sort(key=lambada x:x[1],reverse=True)\n",
    "## word,count=items[i]"
   ]
  },
  {
   "cell_type": "code",
   "execution_count": 57,
   "metadata": {},
   "outputs": [],
   "source": [
    "### 练习题\n",
    "## 6.1 密码生成\n",
    "\n",
    "\n",
    "ls=[]\n",
    "for a in (65,97):\n",
    "    for i in range(26):\n",
    "        ls.append(chr(a+i))\n",
    "for i in range(9):\n",
    "    ls.append(1+i)\n",
    "\n",
    "import random\n",
    "# print(len(ls))\n",
    "leng=len(ls)\n",
    "pwds=[]\n",
    "for i in range(10):\n",
    "    pwd=[]\n",
    "    for i in range(8):\n",
    "        random.seed()\n",
    "        ind=random.randint(0,leng-1)\n",
    "        pwd.append(ls[ind])\n",
    "# list包含数字，不能直接转化成字符串。\n",
    "    pwd=\"\".join('%s'%indx for indx in pwd)\n",
    "    pwds.append(pwd)\n",
    "\n",
    "print(pwds)"
   ]
  },
  {
   "cell_type": "code",
   "execution_count": 66,
   "metadata": {},
   "outputs": [],
   "source": [
    "### 6.2&&6.3 重复元素判定\n",
    "def repJudge(ls):\n",
    "    s=set()\n",
    "    for i in ls:\n",
    "        s.add(i)\n",
    "    if len(s) == len(ls):\n",
    "        return False\n",
    "    else:\n",
    "        return True\n",
    "\n",
    "ls1=[0,1,2,3,4,2,3]\n",
    "print(repJudge(ls1))\n",
    "ls2=[0,1,2,3]\n",
    "print(repJudge(ls2))"
   ]
  },
  {
   "cell_type": "code",
   "execution_count": 79,
   "metadata": {},
   "outputs": [],
   "source": [
    "### 6.5 生日悖论\n",
    "import random\n",
    "\n",
    "\n",
    "### 获得场中23人的生日\n",
    "bir_ls=[]\n",
    "def getBir():\n",
    "    birthday={}\n",
    "    for i in range(1,13):\n",
    "        if i in (1,3,5,7,8,10,12):\n",
    "            birthday[i]=31\n",
    "        else:\n",
    "            birthday[i]=30\n",
    "    birthday[2]=28\n",
    "    bir_ls.clear()\n",
    "#     print()\n",
    "#     bir_ls=[]\n",
    "\n",
    "    for i in range(23):\n",
    "        random.seed()\n",
    "        month=random.randint(1,12)\n",
    "        day=random.randint(1,birthday.get(month,30))\n",
    "        bir_ls.append((month,day))\n",
    "    return bir_ls\n",
    "\n",
    "# N=100\n"
   ]
  },
  {
   "cell_type": "code",
   "execution_count": 77,
   "metadata": {},
   "outputs": [],
   "source": [
    "### 判断生日是否相同\n",
    "def birJudge(bir_ls):\n",
    "    s=set()\n",
    "    for i in bir_ls:\n",
    "        s.add(i)\n",
    "    if len(s) == len(bir_ls):\n",
    "        return True\n",
    "    else:\n",
    "        return False"
   ]
  },
  {
   "cell_type": "code",
   "execution_count": 86,
   "metadata": {},
   "outputs": [],
   "source": [
    "\n",
    "###  计算生日相同的概率\n",
    "def calProb(N):\n",
    "    count=0\n",
    "    for i in range(N):\n",
    "        all_bir=getBir()\n",
    "        flag=birJudge(all_bir)\n",
    "#         global count\n",
    "        if flag:\n",
    "            count += 1\n",
    "    prob=count/N\n",
    "    print(\"{}次实验中，两人生日相同概率为{:.2f}\".format(N,prob))"
   ]
  },
  {
   "cell_type": "code",
   "execution_count": 92,
   "metadata": {},
   "outputs": [
    {
     "name": "stdout",
     "output_type": "stream",
     "text": [
      "100次实验中，两人生日相同概率为0.43\n",
      "200次实验中，两人生日相同概率为0.51\n",
      "500次实验中，两人生日相同概率为0.51\n",
      "1000次实验中，两人生日相同概率为0.49\n"
     ]
    }
   ],
   "source": [
    "### 调用过程\n",
    "calProb(100)\n",
    "\n",
    "calProb(200)\n",
    "\n",
    "calProb(500)\n",
    "\n",
    "calProb(1000)"
   ]
  },
  {
   "cell_type": "code",
   "execution_count": null,
   "metadata": {},
   "outputs": [],
   "source": []
  }
 ],
 "metadata": {
  "kernelspec": {
   "display_name": "Python 3",
   "language": "python",
   "name": "python3"
  },
  "language_info": {
   "codemirror_mode": {
    "name": "ipython",
    "version": 3
   },
   "file_extension": ".py",
   "mimetype": "text/x-python",
   "name": "python",
   "nbconvert_exporter": "python",
   "pygments_lexer": "ipython3",
   "version": "3.7.0"
  }
 },
 "nbformat": 4,
 "nbformat_minor": 2
}
